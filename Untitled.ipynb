{
 "cells": [
  {
   "cell_type": "code",
   "execution_count": 1,
   "id": "41ef8e59-a511-43d0-9189-38127dac6151",
   "metadata": {},
   "outputs": [],
   "source": [
    "import pandas as pd\n",
    "import sys\n",
    "sys.path.append(\"mango-explorer/\")\n",
    "import decimal\n",
    "import mango\n",
    "import os\n",
    "import time\n",
    "import dash\n",
    "\n",
    "# Create a 'devnet' Context\n",
    "context = mango.ContextBuilder.build(cluster_name=\"devnet\")\n",
    "\n",
    "# Load the market\n",
    "stub = context.market_lookup.find_by_symbol(\"SOL-PERP\")"
   ]
  },
  {
   "cell_type": "code",
   "execution_count": 3,
   "id": "b9343cad-eeed-4f92-81d0-19cea4914d4f",
   "metadata": {},
   "outputs": [
    {
     "data": {
      "text/plain": [
       "« 𝙲𝚘𝚗𝚝𝚎𝚡𝚝 'Mango Explorer':\n",
       "    Cluster Name: mainnet\n",
       "    Cluster URL: https://mango.rpcpool.com/946ef7337da3f5b8d3e4a34e7f88\n",
       "    Group Name: mainnet.1\n",
       "    Group Address: 98pjRuQjK3qA6gXts96PqZT4Ze5QmnCmt3QYjhbUSPue\n",
       "    Mango Program Address: mv3ekLzLbnVPNxjSKvqBpU3ZeZXPQdEC3bp5MDEBG68\n",
       "    Serum Program Address: 9xQeWvG816bUx9EPjHmaT23yvVM2ZWbrrpZb9PusVFin\n",
       "»"
      ]
     },
     "execution_count": 3,
     "metadata": {},
     "output_type": "execute_result"
    }
   ],
   "source": [
    "context"
   ]
  },
  {
   "cell_type": "code",
   "execution_count": 2,
   "id": "5d5d291d-6694-4854-9120-0d3b0b10b760",
   "metadata": {},
   "outputs": [
    {
     "data": {
      "text/plain": [
       "21.359"
      ]
     },
     "execution_count": 2,
     "metadata": {},
     "output_type": "execute_result"
    }
   ],
   "source": [
    "context = mango.ContextBuilder.build(cluster_name=\"mainnet\")\n",
    "\n",
    "def stream_pyth(market=\"BTC/USDC\"):\n",
    "    # Load the market\n",
    "    stub = context.market_lookup.find_by_symbol(market)\n",
    "    market = mango.ensure_market_loaded(context, stub)\n",
    "\n",
    "    pyth = mango.create_oracle_provider(context, \"pyth\")\n",
    "    pyth_mkt = pyth.oracle_for_market(context, market)\n",
    "    return pyth_mkt\n",
    "\n",
    "pyth_loader = stream_pyth()\n",
    "ff = pyth_loader.fetch_price(context)\n",
    "float(ff.confidence)"
   ]
  },
  {
   "cell_type": "code",
   "execution_count": 3,
   "id": "d5e3b7b7-332e-4719-9dee-9a625f8be015",
   "metadata": {},
   "outputs": [
    {
     "data": {
      "text/plain": [
       "« 𝙿𝚎𝚛𝚙𝙼𝚊𝚛𝚔𝚎𝚝𝚂𝚝𝚞𝚋 SOL-PERP 58vac8i9QXStG1hpaa4ouwE1X7ngeDjY9oY7R15hcbKJ [4skJ85cdxQAFVKbcGgfun8iZPL7BadVYXG3kGEGkufqA] »"
      ]
     },
     "execution_count": 3,
     "metadata": {},
     "output_type": "execute_result"
    }
   ],
   "source": [
    "stub"
   ]
  },
  {
   "cell_type": "code",
   "execution_count": null,
   "id": "5c97fe8a-4a92-4f49-abf5-3b35802cc02c",
   "metadata": {},
   "outputs": [],
   "source": [
    "stub."
   ]
  }
 ],
 "metadata": {
  "kernelspec": {
   "display_name": "Python 3.10.0 64-bit ('venv': venv)",
   "language": "python",
   "name": "python3100jvsc74a57bd0f9a55105823872d65e726b0cbb71e86ec4c59adbf774b41cfbf31de1872e13e3"
  },
  "language_info": {
   "codemirror_mode": {
    "name": "ipython",
    "version": 3
   },
   "file_extension": ".py",
   "mimetype": "text/x-python",
   "name": "python",
   "nbconvert_exporter": "python",
   "pygments_lexer": "ipython3",
   "version": "3.10.0"
  }
 },
 "nbformat": 4,
 "nbformat_minor": 5
}
